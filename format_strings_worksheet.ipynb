{
 "cells": [
  {
   "cell_type": "markdown",
   "metadata": {},
   "source": [
    "# Voltage "
   ]
  },
  {
   "cell_type": "code",
   "execution_count": 40,
   "metadata": {},
   "outputs": [],
   "source": [
    "v_format_strs = {6: \"{:05.3f}\", 10:\"{:06.3f}\", 20:\"{:06.3f}\", \n",
    "               36:\"{:05.2f}\", 60:\"{:05.2f}\", 80:\"{:05.2f}\",\n",
    "               120:\"{:06.2f}\"}\n",
    "# key: volt max\n",
    "# value: format string {:0total_char.decimalsf}"
   ]
  },
  {
   "cell_type": "markdown",
   "metadata": {},
   "source": [
    "        Model \t    MIN. \tMAX. \n",
    "        ZUP6-XY \t0.000\t6.000\n",
    "        ZUP10-XY \t00.000\t10.000\n",
    "        ZUP20-XY \t00.000\t20.000\n",
    "        ZUP36-XY \t00.00\t36.00\n",
    "        ZUP60-XY \t00.00\t60.00\n",
    "        ZUP80-XY \t00.00\t80.00\n",
    "        ZUP120-XY \t000.00\t120.00"
   ]
  },
  {
   "cell_type": "code",
   "execution_count": 41,
   "metadata": {},
   "outputs": [
    {
     "name": "stdout",
     "output_type": "stream",
     "text": [
      "ZUP6 \t 0.000 \t 6.000\n",
      "ZUP10 \t 00.000 \t 10.000\n",
      "ZUP20 \t 00.000 \t 20.000\n",
      "ZUP36 \t 00.00 \t 36.00\n",
      "ZUP60 \t 00.00 \t 60.00\n",
      "ZUP80 \t 00.00 \t 80.00\n",
      "ZUP120 \t 000.00 \t 120.00\n"
     ]
    }
   ],
   "source": [
    "for vmax, fmtstr in v_format_strs.items():\n",
    "    print(\"ZUP{}\".format(vmax),'\\t', fmtstr.format(0), '\\t', fmtstr.format(vmax))"
   ]
  },
  {
   "cell_type": "markdown",
   "metadata": {},
   "source": [
    "# Current "
   ]
  },
  {
   "cell_type": "markdown",
   "metadata": {},
   "source": [
    "        Model       MIN.        MAX.\n",
    "        ZUP6-33     00.00      33.00\n",
    "        ZUP6-66     00.00      66.00\n",
    "        ZUP6-132    000.00     132.00\n",
    "        ZUP10-20    00.000     20.000\n",
    "        ZUP10-40    00.00      40.00\n",
    "        ZUP10-80    00.00      80.00\n",
    "        ZUP20-10    00.000     10.000\n",
    "        ZUP20-20    00.000     20.000\n",
    "        ZUP20-40    00.00      40.00\n",
    "        ZUP36-6     0.000      6.000\n",
    "        ZUP36-12    00.000     12.000\n",
    "        ZUP36-24    00.000     24.000\n",
    "        ZUP60-3.5   0.000      3.500\n",
    "        ZUP60-7     0.000      7.000\n",
    "        ZUP60-14    00.000     14.000\n",
    "        ZUP80-2.5   0.0000     2.5000\n",
    "        ZUP80-5     0.000      5.000\n",
    "        ZUP120-1.8  0.0000     1.8000\n",
    "        ZUP120-3.6  0.000      3.600"
   ]
  },
  {
   "cell_type": "code",
   "execution_count": 42,
   "metadata": {},
   "outputs": [],
   "source": [
    "current_format_strs = {\n",
    "    #(V,A): fmt_str {:0total_char.decimalsf}\n",
    "    (6,33.0):   \"{:05.2f}\",\n",
    "    (6,66.0):   \"{:05.2f}\",\n",
    "    (6,132.0):  \"{:06.2f}\",\n",
    "    \n",
    "    (10,20.0):  \"{:06.3f}\",\n",
    "    (10,40.0):  \"{:05.2f}\",\n",
    "    (10,80.0):  \"{:05.2f}\",\n",
    "    \n",
    "    (20,10.0):  \"{:06.3f}\",\n",
    "    (20,20.0):  \"{:06.3f}\",\n",
    "    (20,40.0):  \"{:05.2f}\",\n",
    "    \n",
    "    (36,6.0):   \"{:05.3f}\",\n",
    "    (36,12.0):  \"{:06.3f}\",\n",
    "    (36,24.0):  \"{:06.3f}\",\n",
    "    \n",
    "    (60,3.5):   \"{:05.3f}\",\n",
    "    (60,7.0):   \"{:05.3f}\",\n",
    "    (60,14.0):  \"{:06.3f}\",\n",
    "    \n",
    "    (80,2.5):   \"{:06.4f}\",\n",
    "    (80,5.0):   \"{:05.3f}\",\n",
    "    \n",
    "    (120,1.8):   \"{:06.4f}\",\n",
    "    (120,3.6):   \"{:05.3f}\",\n",
    "}"
   ]
  },
  {
   "cell_type": "code",
   "execution_count": 43,
   "metadata": {},
   "outputs": [
    {
     "name": "stdout",
     "output_type": "stream",
     "text": [
      "ZUP6-33.0 \t 00.00 \t 33.00\n",
      "ZUP6-66.0 \t 00.00 \t 66.00\n",
      "ZUP6-132.0 \t 000.00 \t 132.00\n",
      "ZUP10-20.0 \t 00.000 \t 20.000\n",
      "ZUP10-40.0 \t 00.00 \t 40.00\n",
      "ZUP10-80.0 \t 00.00 \t 80.00\n",
      "ZUP20-10.0 \t 00.000 \t 10.000\n",
      "ZUP20-20.0 \t 00.000 \t 20.000\n",
      "ZUP20-40.0 \t 00.00 \t 40.00\n",
      "ZUP36-6.0 \t 0.000 \t 6.000\n",
      "ZUP36-12.0 \t 00.000 \t 12.000\n",
      "ZUP36-24.0 \t 00.000 \t 24.000\n",
      "ZUP60-3.5 \t 0.000 \t 3.500\n",
      "ZUP60-7.0 \t 0.000 \t 7.000\n",
      "ZUP60-14.0 \t 00.000 \t 14.000\n",
      "ZUP80-2.5 \t 0.0000 \t 2.5000\n",
      "ZUP80-5.0 \t 0.000 \t 5.000\n",
      "ZUP120-1.8 \t 0.0000 \t 1.8000\n",
      "ZUP120-3.6 \t 0.000 \t 3.600\n"
     ]
    }
   ],
   "source": [
    "for (vmax,imax), fmtstr in current_format_strs.items():\n",
    "    print(\"ZUP{}-{}\".format(vmax, imax),'\\t', fmtstr.format(0), '\\t', fmtstr.format(imax))"
   ]
  },
  {
   "cell_type": "code",
   "execution_count": 48,
   "metadata": {},
   "outputs": [
    {
     "data": {
      "text/plain": [
       "':CUR0.223;'"
      ]
     },
     "execution_count": 48,
     "metadata": {},
     "output_type": "execute_result"
    }
   ],
   "source": [
    "\":CUR{};\".format(fmtstr).format(0.2231234)"
   ]
  },
  {
   "cell_type": "code",
   "execution_count": null,
   "metadata": {},
   "outputs": [],
   "source": []
  },
  {
   "cell_type": "code",
   "execution_count": null,
   "metadata": {},
   "outputs": [],
   "source": []
  }
 ],
 "metadata": {
  "kernelspec": {
   "display_name": "Python 3",
   "language": "python",
   "name": "python3"
  },
  "language_info": {
   "codemirror_mode": {
    "name": "ipython",
    "version": 3
   },
   "file_extension": ".py",
   "mimetype": "text/x-python",
   "name": "python",
   "nbconvert_exporter": "python",
   "pygments_lexer": "ipython3",
   "version": "3.7.1"
  }
 },
 "nbformat": 4,
 "nbformat_minor": 2
}
